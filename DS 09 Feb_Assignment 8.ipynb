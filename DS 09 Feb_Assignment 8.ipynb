{
 "cells": [
  {
   "cell_type": "code",
   "execution_count": 10,
   "id": "8354b7ae-06dc-4c85-928c-8ac806352bde",
   "metadata": {},
   "outputs": [],
   "source": [
    "# Answer 1\n",
    "class vehicle:\n",
    "    def __init__(self, name_of_vehicle, max_speed, average_of_vehicle):\n",
    "        self.name_of_vehicle=name_of_vehicle\n",
    "        self.max_speed=max_speed\n",
    "        self.average_of_vehicle=average_of_vehicle\n",
    "\n"
   ]
  },
  {
   "cell_type": "code",
   "execution_count": 13,
   "id": "fb46e7d3-586c-4511-a461-f894adda7e26",
   "metadata": {},
   "outputs": [
    {
     "name": "stdout",
     "output_type": "stream",
     "text": [
      "Tesla\n",
      "300\n",
      "23\n"
     ]
    }
   ],
   "source": [
    "car= vehicle('Tesla',300,23)\n",
    "print(car.name_of_vehicle)\n",
    "print(car.max_speed)\n",
    "print(car.average_of_vehicle)"
   ]
  },
  {
   "cell_type": "code",
   "execution_count": 5,
   "id": "f8081e66-b9ab-4a20-9deb-a1546729bda7",
   "metadata": {},
   "outputs": [],
   "source": [
    "# Answer 2\n",
    "class vehicle:\n",
    "    def __init__(self, name_of_vehicle, max_speed, average_of_vehicle):\n",
    "        self.name_of_vehicle=name_of_vehicle\n",
    "        self.max_speed=max_speed\n",
    "        self.average_of_vehicle=average_of_vehicle\n",
    "\n",
    "class car(vehicle):\n",
    "    def seating_capacity(self, capacity):\n",
    "        return f\"{self.name_of_vehicle} has a seating capacity of {capacity} passengers.\""
   ]
  },
  {
   "cell_type": "code",
   "execution_count": 7,
   "id": "41ea5f6d-ec2f-45ec-a302-0b634cabe94b",
   "metadata": {},
   "outputs": [
    {
     "name": "stdout",
     "output_type": "stream",
     "text": [
      "Toyota Corolla has a seating capacity of 5 passengers.\n"
     ]
    }
   ],
   "source": [
    "my_car = car(\"Toyota Corolla\", 180, 12)\n",
    "print(my_car.seating_capacity(5))\n"
   ]
  },
  {
   "cell_type": "code",
   "execution_count": 8,
   "id": "29bc6806-dd05-4936-b6ec-f5396bb0e98b",
   "metadata": {},
   "outputs": [],
   "source": [
    "# Answer 3\n",
    "'''Multiple inheritance is a feature of object-oriented programming where a subclass can inherit properties and methods from multiple parent classes.\n",
    "Here is an example code to demonstrate multiple inheritance:'''\n",
    "class Base1:\n",
    "    def method1(self):\n",
    "        print(\"Base1 method1\")\n",
    "\n",
    "class Base2:\n",
    "    def method2(self):\n",
    "        print(\"Base2 method2\")\n",
    "\n",
    "class Derived(Base1, Base2):\n",
    "    def method3(self):\n",
    "        print(\"Derived method3\")"
   ]
  },
  {
   "cell_type": "code",
   "execution_count": 8,
   "id": "6a677ce8-95d0-45fc-8591-607437ad60c7",
   "metadata": {},
   "outputs": [
    {
     "name": "stdout",
     "output_type": "stream",
     "text": [
      "30\n",
      "Age cannot be in negative\n",
      "30\n",
      "40\n"
     ]
    }
   ],
   "source": [
    "# Answer 4\n",
    "'''Getter and setter methods are used to access and modify the instance variables of a class in a controlled manner. \n",
    "They provide a way to ensure data encapsulation and to avoid direct access to the instance variables from outside the class.\n",
    "Here is an example'''\n",
    "class Person:\n",
    "    def __init__(self, name, age):\n",
    "        self.name = name\n",
    "        self.age = age  \n",
    "    \n",
    "    @property\n",
    "    def Access_age(self):\n",
    "        return self.age\n",
    "    \n",
    "    @Access_age.setter\n",
    "    def Access_age(self, age):\n",
    "        if age>0:\n",
    "            self.age=age\n",
    "        else:\n",
    "            print('Age cannot be in negative')\n",
    "\n",
    "p = Person(\"John\", 30)\n",
    "print(p.Access_age)\n",
    "p.Access_age=-20\n",
    "print(p.Access_age)\n",
    "p.Access_age=40\n",
    "print(p.Access_age)"
   ]
  },
  {
   "cell_type": "code",
   "execution_count": 43,
   "id": "b492831f-0dc7-4d79-bb72-76917efc56eb",
   "metadata": {},
   "outputs": [],
   "source": [
    "# Answer 5\n",
    "'''Method overriding is a concept in object-oriented programming where a child class provides its own implementation of a method that is already defined in the parent class. \n",
    "This allows the child class to modify or extend the behavior of the inherited method.\n",
    "Here's an example code that demonstrates method overriding in Python:'''\n",
    "class Animal:\n",
    "    def make_sound(self):\n",
    "        print(\"The animal makes a sound.\")\n",
    "\n",
    "class Dog(Animal):\n",
    "    def make_sound(self):\n",
    "        print(\"The dog barks.\")\n",
    "\n",
    "class Cat(Animal):\n",
    "    def make_sound(self):\n",
    "        print(\"The cat meows.\")"
   ]
  },
  {
   "cell_type": "code",
   "execution_count": 49,
   "id": "f9fcb68e-ff8b-4fb4-9e6c-136dff7f9052",
   "metadata": {},
   "outputs": [],
   "source": [
    "animal=Animal()\n",
    "dog=Dog()\n",
    "cat=Cat()"
   ]
  },
  {
   "cell_type": "code",
   "execution_count": 50,
   "id": "8ec15822-cef6-4a17-80b7-740e004225d7",
   "metadata": {},
   "outputs": [
    {
     "name": "stdout",
     "output_type": "stream",
     "text": [
      "The animal makes a sound.\n",
      "The dog barks.\n",
      "The cat meows.\n"
     ]
    }
   ],
   "source": [
    "animal.make_sound()\n",
    "dog.make_sound()\n",
    "cat.make_sound()"
   ]
  },
  {
   "cell_type": "code",
   "execution_count": null,
   "id": "bf18fe01-5002-4444-aa78-28d18c59c971",
   "metadata": {},
   "outputs": [],
   "source": []
  }
 ],
 "metadata": {
  "kernelspec": {
   "display_name": "Python 3 (ipykernel)",
   "language": "python",
   "name": "python3"
  },
  "language_info": {
   "codemirror_mode": {
    "name": "ipython",
    "version": 3
   },
   "file_extension": ".py",
   "mimetype": "text/x-python",
   "name": "python",
   "nbconvert_exporter": "python",
   "pygments_lexer": "ipython3",
   "version": "3.10.8"
  }
 },
 "nbformat": 4,
 "nbformat_minor": 5
}
